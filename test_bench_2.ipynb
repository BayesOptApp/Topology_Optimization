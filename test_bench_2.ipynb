{
 "cells": [
  {
   "cell_type": "code",
   "execution_count": 1,
   "id": "2ca752bc",
   "metadata": {},
   "outputs": [],
   "source": [
    "from Design_Examples.Raw_Design.Instanced_Design import InstancedDesign\n",
    "import numpy as np"
   ]
  },
  {
   "cell_type": "code",
   "execution_count": 8,
   "id": "cef3d879",
   "metadata": {},
   "outputs": [],
   "source": [
    "des1 = InstancedDesign(nmmcsx=3, nmmcsy=2,\n",
    "                       nelx=100,nely=50, instance=2,\n",
    "                       symmetry_condition=True,\n",
    "                       scalation_mode=\"unitary\",\n",
    "                       initialise_zero=True,\n",
    "                       continuity_check_mode=\"discrete\")\n"
   ]
  },
  {
   "cell_type": "code",
   "execution_count": 9,
   "id": "9fb63a07",
   "metadata": {},
   "outputs": [
    {
     "data": {
      "text/plain": [
       "array([[0.05232243, 0.85232243],\n",
       "       [0.05969823, 0.85969823],\n",
       "       [0.80030158, 1.80030158],\n",
       "       [0.16284515, 0.96284515],\n",
       "       [0.01838319, 0.81838319]])"
      ]
     },
     "execution_count": 9,
     "metadata": {},
     "output_type": "execute_result"
    }
   ],
   "source": [
    "des1.range_MMCs"
   ]
  },
  {
   "cell_type": "code",
   "execution_count": 16,
   "id": "eb3be955",
   "metadata": {},
   "outputs": [
    {
     "name": "stdout",
     "output_type": "stream",
     "text": [
      "[[0.1664679 ]\n",
      " [0.73131363]\n",
      " [0.33625236]\n",
      " [0.03930666]\n",
      " [0.37519041]\n",
      " [0.76992829]\n",
      " [0.21499207]\n",
      " [0.60500534]\n",
      " [0.02990748]\n",
      " [0.50820813]\n",
      " [0.5886291 ]\n",
      " [0.18025353]\n",
      " [0.21202282]\n",
      " [0.86527965]\n",
      " [0.68154734]]\n"
     ]
    }
   ],
   "source": [
    "array_manip = np.random.uniform(0, 1, (15,1))\n",
    "print(array_manip)\n",
    "des1.modify_mutable_properties_from_array(\n",
    "    new_properties_array=array_manip,\n",
    "    scaled=True,\n",
    "    repair_level=0)"
   ]
  },
  {
   "cell_type": "code",
   "execution_count": 17,
   "id": "7e4dec7e",
   "metadata": {},
   "outputs": [
    {
     "name": "stdout",
     "output_type": "stream",
     "text": [
      "[MMC(18.54967, 16.11873, 3.57059, 20.03506, 9.20214), MMC(66.82651, 5.79230, 4.41490, 19.26006, 12.27299), MMC(52.32257, 5.09753, 3.18031, 88.13993, 16.27470)]\n"
     ]
    }
   ],
   "source": [
    "print(des1.list_of_MMC)"
   ]
  },
  {
   "cell_type": "code",
   "execution_count": 18,
   "id": "831da327",
   "metadata": {},
   "outputs": [
    {
     "data": {
      "image/png": "[encoded data removed]",
      "text/plain": [
       "<Figure size 1000x500 with 1 Axes>"
      ]
     },
     "metadata": {},
     "output_type": "display_data"
    }
   ],
   "source": [
    "fig, ax = des1.plot_discrete_design()\n"
   ]
  },
  {
   "cell_type": "code",
   "execution_count": null,
   "id": "657c4cdf",
   "metadata": {},
   "outputs": [],
   "source": []
  }
 ],
 "metadata": {
  "kernelspec": {
   "display_name": "top-Opt",
   "language": "python",
   "name": "python3"
  },
  "language_info": {
   "codemirror_mode": {
    "name": "ipython",
    "version": 3
   },
   "file_extension": ".py",
   "mimetype": "text/x-python",
   "name": "python",
   "nbconvert_exporter": "python",
   "pygments_lexer": "ipython3",
   "version": "3.11.11"
  }
 },
 "nbformat": 4,
 "nbformat_minor": 5
}
