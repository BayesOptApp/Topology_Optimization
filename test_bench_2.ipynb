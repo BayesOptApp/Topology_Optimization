{
 "cells": [
  {
   "cell_type": "code",
   "execution_count": 1,
   "id": "2ca752bc",
   "metadata": {},
   "outputs": [],
   "source": [
    "from problems.generator import get_problem\n",
    "import numpy as np"
   ]
  },
  {
   "cell_type": "code",
   "execution_count": 24,
   "id": "cef3d879",
   "metadata": {},
   "outputs": [],
   "source": [
    "des1 = get_problem(3,40,0,plot_topology=True,\n",
    "                   run_number=5134)\n"
   ]
  },
  {
   "cell_type": "code",
   "execution_count": 25,
   "id": "9fb63a07",
   "metadata": {},
   "outputs": [
    {
     "data": {
      "text/plain": [
       "array([[0.        , 1.        ],\n",
       "       [0.        , 1.        ],\n",
       "       [0.        , 3.14159265],\n",
       "       [0.        , 1.        ],\n",
       "       [0.        , 1.        ]])"
      ]
     },
     "execution_count": 25,
     "metadata": {},
     "output_type": "execute_result"
    }
   ],
   "source": [
    "des1.range_MMCs"
   ]
  },
  {
   "cell_type": "code",
   "execution_count": 26,
   "id": "eb3be955",
   "metadata": {},
   "outputs": [
    {
     "name": "stdout",
     "output_type": "stream",
     "text": [
      "[[0.58887047]\n",
      " [0.06017904]\n",
      " [0.30967328]\n",
      " [0.44362831]\n",
      " [0.69197462]\n",
      " [0.35415237]\n",
      " [0.06439404]\n",
      " [0.21022878]\n",
      " [0.2257787 ]\n",
      " [0.45395318]\n",
      " [0.12772822]\n",
      " [0.10567539]\n",
      " [0.56208399]\n",
      " [0.95397365]\n",
      " [0.38598992]\n",
      " [0.46222366]\n",
      " [0.68988686]\n",
      " [0.78466899]\n",
      " [0.83053867]\n",
      " [0.69806525]\n",
      " [0.1720441 ]\n",
      " [0.0894387 ]\n",
      " [0.99919462]\n",
      " [0.42141727]\n",
      " [0.66392739]\n",
      " [0.09828031]\n",
      " [0.34667811]\n",
      " [0.81026556]\n",
      " [0.31334468]\n",
      " [0.85912487]\n",
      " [0.11290769]\n",
      " [0.96107773]\n",
      " [0.74100534]\n",
      " [0.32080787]\n",
      " [0.96424574]\n",
      " [0.13365251]\n",
      " [0.32992025]\n",
      " [0.70078065]\n",
      " [0.71523208]\n",
      " [0.92519908]]\n"
     ]
    }
   ],
   "source": [
    "array_manip = np.random.uniform(0, 1, (40,1))\n",
    "print(array_manip)\n",
    "des1.modify_mutable_properties_from_array(\n",
    "    new_properties_array=array_manip,\n",
    "    scaled=True,\n",
    "    repair_level=0)"
   ]
  },
  {
   "cell_type": "code",
   "execution_count": 27,
   "id": "7e4dec7e",
   "metadata": {},
   "outputs": [
    {
     "name": "stdout",
     "output_type": "stream",
     "text": [
      "[MMC(79.49751, 2.70806, 0.97287, 94.70013, 19.07235), MMC(47.81057, 2.89773, 0.66045, 48.20128, 12.51539), MMC(17.24331, 4.75539, 1.76584, 203.63066, 10.64316), MMC(62.40019, 31.04491, 2.46511, 177.28411, 19.24013), MMC(23.22595, 4.02474, 3.13906, 89.95930, 18.29971), MMC(13.26784, 15.60052, 2.54552, 66.89177, 23.67697), MMC(15.24254, 43.24850, 2.32794, 68.48475, 26.57281), MMC(18.04309, 14.84641, 2.20157, 152.67253, 25.49716)]\n"
     ]
    }
   ],
   "source": [
    "print(des1.list_of_MMC)"
   ]
  },
  {
   "cell_type": "code",
   "execution_count": 28,
   "id": "831da327",
   "metadata": {},
   "outputs": [
    {
     "data": {
      "image/png": "[encoded data removed]",
      "text/plain": [
       "<Figure size 1000x500 with 1 Axes>"
      ]
     },
     "metadata": {},
     "output_type": "display_data"
    }
   ],
   "source": [
    "fig, ax = des1.plot_discrete_design()\n"
   ]
  },
  {
   "cell_type": "code",
   "execution_count": 29,
   "id": "657c4cdf",
   "metadata": {},
   "outputs": [
    {
     "data": {
      "text/plain": [
       "2237999.9999999995"
      ]
     },
     "execution_count": 29,
     "metadata": {},
     "output_type": "execute_result"
    }
   ],
   "source": [
    "des1(array_manip.ravel())"
   ]
  },
  {
   "cell_type": "code",
   "execution_count": 30,
   "id": "ea33c2b6",
   "metadata": {},
   "outputs": [
    {
     "name": "stdout",
     "output_type": "stream",
     "text": [
      "IID[0] for problem (mbb) generates the following physical ranges:\n",
      "BEAM 1: X_0=[0.0,150.0], \tY_0=[0.0,50.0], \tTheta=[0.0,3.141592653589793], \tL=[0.0,237.17082451262849], \tT=[0.0,30.618621784789728] \n",
      "BEAM 2: X_0=[0.0,150.0], \tY_0=[0.0,50.0], \tTheta=[0.0,3.141592653589793], \tL=[0.0,237.17082451262849], \tT=[0.0,30.618621784789728] \n",
      "BEAM 3: X_0=[0.0,150.0], \tY_0=[0.0,50.0], \tTheta=[0.0,3.141592653589793], \tL=[0.0,237.17082451262849], \tT=[0.0,30.618621784789728] \n",
      "BEAM 4: X_0=[0.0,150.0], \tY_0=[0.0,50.0], \tTheta=[0.0,3.141592653589793], \tL=[0.0,237.17082451262849], \tT=[0.0,30.618621784789728] \n",
      "BEAM 5: X_0=[0.0,150.0], \tY_0=[0.0,50.0], \tTheta=[0.0,3.141592653589793], \tL=[0.0,237.17082451262849], \tT=[0.0,30.618621784789728] \n",
      "BEAM 6: X_0=[0.0,150.0], \tY_0=[0.0,50.0], \tTheta=[0.0,3.141592653589793], \tL=[0.0,237.17082451262849], \tT=[0.0,30.618621784789728] \n",
      "BEAM 7: X_0=[0.0,150.0], \tY_0=[0.0,50.0], \tTheta=[0.0,3.141592653589793], \tL=[0.0,237.17082451262849], \tT=[0.0,30.618621784789728] \n",
      "BEAM 8: X_0=[0.0,150.0], \tY_0=[0.0,50.0], \tTheta=[0.0,3.141592653589793], \tL=[0.0,237.17082451262849], \tT=[0.0,30.618621784789728] \n",
      "\n"
     ]
    }
   ],
   "source": [
    "print(des1)"
   ]
  },
  {
   "cell_type": "code",
   "execution_count": null,
   "id": "a788f79b",
   "metadata": {},
   "outputs": [],
   "source": []
  }
 ],
 "metadata": {
  "kernelspec": {
   "display_name": "top-Opt",
   "language": "python",
   "name": "python3"
  },
  "language_info": {
   "codemirror_mode": {
    "name": "ipython",
    "version": 3
   },
   "file_extension": ".py",
   "mimetype": "text/x-python",
   "name": "python",
   "nbconvert_exporter": "python",
   "pygments_lexer": "ipython3",
   "version": "3.11.11"
  }
 },
 "nbformat": 4,
 "nbformat_minor": 5
}
