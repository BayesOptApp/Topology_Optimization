{
 "cells": [
  {
   "cell_type": "code",
   "execution_count": 1,
   "id": "2ca752bc",
   "metadata": {},
   "outputs": [],
   "source": [
    "from meshers.MeshGrid2D import MeshGrid2D\n",
    "from boundary_conditions import LineDirichletBC\n",
    "from boundary_conditions import LineNeumannBC\n",
    "from boundary_conditions import PointDirichletBC\n",
    "from boundary_conditions import PointNeumannBC\n",
    "from boundary_conditions import BoundaryConditionList"
   ]
  },
  {
   "cell_type": "code",
   "execution_count": 2,
   "id": "f2644a9f",
   "metadata": {},
   "outputs": [],
   "source": [
    "meshgrid = MeshGrid2D(100, 50, 1,1)"
   ]
  },
  {
   "cell_type": "code",
   "execution_count": 3,
   "id": "abb62b20",
   "metadata": {},
   "outputs": [
    {
     "data": {
      "text/plain": [
       "array([[   0,    0,    1,  102,  101,    0],\n",
       "       [   1,    1,    2,  103,  102,    0],\n",
       "       [   2,    2,    3,  104,  103,    0],\n",
       "       ...,\n",
       "       [4997, 5046, 5047, 5148, 5147,    0],\n",
       "       [4998, 5047, 5048, 5149, 5148,    0],\n",
       "       [4999, 5048, 5049, 5150, 5149,    0]], dtype=uint64)"
      ]
     },
     "execution_count": 3,
     "metadata": {},
     "output_type": "execute_result"
    }
   ],
   "source": [
    "meshgrid.E"
   ]
  },
  {
   "cell_type": "code",
   "execution_count": 4,
   "id": "22854145",
   "metadata": {},
   "outputs": [
    {
     "data": {
      "text/plain": [
       "array([[0.000e+00, 0.000e+00, 0.000e+00, 0.000e+00],\n",
       "       [1.000e+00, 1.000e+00, 0.000e+00, 0.000e+00],\n",
       "       [2.000e+00, 2.000e+00, 0.000e+00, 0.000e+00],\n",
       "       ...,\n",
       "       [5.148e+03, 9.800e+01, 5.000e+01, 0.000e+00],\n",
       "       [5.149e+03, 9.900e+01, 5.000e+01, 0.000e+00],\n",
       "       [5.150e+03, 1.000e+02, 5.000e+01, 0.000e+00]])"
      ]
     },
     "execution_count": 4,
     "metadata": {},
     "output_type": "execute_result"
    }
   ],
   "source": [
    "meshgrid.coordinate_grid"
   ]
  },
  {
   "cell_type": "code",
   "execution_count": 5,
   "id": "424f7bc0",
   "metadata": {},
   "outputs": [],
   "source": [
    "pd_1 = LineDirichletBC((0.0,0.0),(0.0,1.0), (1,2))\n",
    "pd_2 = PointNeumannBC((1.0,0.5), (0.0,-1.0))"
   ]
  },
  {
   "cell_type": "code",
   "execution_count": 6,
   "id": "23f5d448",
   "metadata": {},
   "outputs": [
    {
     "name": "stdout",
     "output_type": "stream",
     "text": [
      "[(0.0, 0.0), (0.0, 1.0)]\n"
     ]
    }
   ],
   "source": [
    "print(pd_1.location)\n"
   ]
  },
  {
   "cell_type": "code",
   "execution_count": 9,
   "id": "98ba638f",
   "metadata": {},
   "outputs": [
    {
     "name": "stdout",
     "output_type": "stream",
     "text": [
      "(1, 2)\n"
     ]
    }
   ],
   "source": [
    "print(pd_1.blocked_dof)"
   ]
  },
  {
   "cell_type": "code",
   "execution_count": 8,
   "id": "aa14009d",
   "metadata": {},
   "outputs": [
    {
     "data": {
      "text/plain": [
       "[0,\n",
       " 101,\n",
       " 202,\n",
       " 303,\n",
       " 404,\n",
       " 505,\n",
       " 606,\n",
       " 707,\n",
       " 808,\n",
       " 909,\n",
       " 1010,\n",
       " 1111,\n",
       " 1212,\n",
       " 1313,\n",
       " 1414,\n",
       " 1515,\n",
       " 1616,\n",
       " 1717,\n",
       " 1818,\n",
       " 1919,\n",
       " 2020,\n",
       " 2121,\n",
       " 2222,\n",
       " 2323,\n",
       " 2424,\n",
       " 2525,\n",
       " 2626,\n",
       " 2727,\n",
       " 2828,\n",
       " 2929,\n",
       " 3030,\n",
       " 3131,\n",
       " 3232,\n",
       " 3333,\n",
       " 3434,\n",
       " 3535,\n",
       " 3636,\n",
       " 3737,\n",
       " 3838,\n",
       " 3939,\n",
       " 4040,\n",
       " 4141,\n",
       " 4242,\n",
       " 4343,\n",
       " 4444,\n",
       " 4545,\n",
       " 4646,\n",
       " 4747,\n",
       " 4848,\n",
       " 4949,\n",
       " 5050]"
      ]
     },
     "execution_count": 8,
     "metadata": {},
     "output_type": "execute_result"
    }
   ],
   "source": [
    "pd_1.get_affected_nodes(meshgrid)"
   ]
  },
  {
   "cell_type": "code",
   "execution_count": null,
   "id": "cef3d879",
   "metadata": {},
   "outputs": [],
   "source": []
  }
 ],
 "metadata": {
  "kernelspec": {
   "display_name": "top-Opt",
   "language": "python",
   "name": "python3"
  },
  "language_info": {
   "codemirror_mode": {
    "name": "ipython",
    "version": 3
   },
   "file_extension": ".py",
   "mimetype": "text/x-python",
   "name": "python",
   "nbconvert_exporter": "python",
   "pygments_lexer": "ipython3",
   "version": "3.11.11"
  }
 },
 "nbformat": 4,
 "nbformat_minor": 5
}
